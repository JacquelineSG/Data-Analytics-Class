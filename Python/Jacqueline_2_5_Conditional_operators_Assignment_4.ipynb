{
  "nbformat": 4,
  "nbformat_minor": 0,
  "metadata": {
    "colab": {
      "name": "Jacqueline - 2-5 Conditional operators Assignment 4.ipynb",
      "provenance": [],
      "include_colab_link": true
    },
    "kernelspec": {
      "name": "python3",
      "display_name": "Python 3"
    },
    "language_info": {
      "name": "python"
    }
  },
  "cells": [
    {
      "cell_type": "markdown",
      "metadata": {
        "id": "view-in-github",
        "colab_type": "text"
      },
      "source": [
        "<a href=\"https://colab.research.google.com/github/JacquelineSG/Data-Analytics-Class/blob/main/Python/Jacqueline_2_5_Conditional_operators_Assignment_4.ipynb\" target=\"_parent\"><img src=\"https://colab.research.google.com/assets/colab-badge.svg\" alt=\"Open In Colab\"/></a>"
      ]
    },
    {
      "cell_type": "markdown",
      "source": [
        "##2-5 Conditional operators and if statements\n"
      ],
      "metadata": {
        "id": "JJNI2qrwqgYB"
      }
    },
    {
      "cell_type": "markdown",
      "source": [
        "## Task 1: Admin user names\n",
        "* Make a list of 5 or more usernames, including an admin account. Imagine you are writing code that will welcome people to your application on login. Loop through the list and print your greeting.\n",
        "* If the admin account logs in, give them a special greeting.  They’re the admin, after all!\n",
        "* Other users can get the generic greeting"
      ],
      "metadata": {
        "id": "mXe7c59GqpEX"
      }
    },
    {
      "cell_type": "code",
      "execution_count": 1,
      "metadata": {
        "id": "TFOFGzWWqSNV"
      },
      "outputs": [],
      "source": [
        "usernames = ['seb72','adam99','chel22','trinl0','admin']"
      ]
    },
    {
      "cell_type": "code",
      "source": [
        "for x in usernames:\n",
        "  print('Welcome back, ' + x)"
      ],
      "metadata": {
        "colab": {
          "base_uri": "https://localhost:8080/"
        },
        "id": "uECVV1nTeazn",
        "outputId": "7984c5c2-9117-4c92-fdd3-199e0673565d"
      },
      "execution_count": 6,
      "outputs": [
        {
          "output_type": "stream",
          "name": "stdout",
          "text": [
            "Welcome back, seb72\n",
            "Welcome back, adam99\n",
            "Welcome back, chel22\n",
            "Welcome back, trinl0\n",
            "Welcome back, admin\n"
          ]
        }
      ]
    },
    {
      "cell_type": "code",
      "source": [
        "for x in usernames:\n",
        "  if x == 'admin':\n",
        "    print('Good day, ' + x + \". Here are today's reports:\")\n",
        "  else:\n",
        "    print('Welcome back, ' + x)"
      ],
      "metadata": {
        "colab": {
          "base_uri": "https://localhost:8080/"
        },
        "id": "XCqTrV1oe-De",
        "outputId": "deef5a94-8afa-4c1f-884b-4b7e970677cf"
      },
      "execution_count": 12,
      "outputs": [
        {
          "output_type": "stream",
          "name": "stdout",
          "text": [
            "Welcome back, seb72\n",
            "Welcome back, adam99\n",
            "Welcome back, chel22\n",
            "Welcome back, trinl0\n",
            "Good day, admin. Here are today's reports:\n"
          ]
        }
      ]
    },
    {
      "cell_type": "markdown",
      "source": [
        "##Task 2: Numbers\n",
        "\n",
        "* Store numbers 1-10 in a list\n",
        "* Loop through the list\n",
        "* Use an if-elif-else chain inside your loop to print the ordinal ending for each number – for example – 1st, 2nd, 3rd … etc."
      ],
      "metadata": {
        "id": "g3nnh2NJq9gY"
      }
    },
    {
      "cell_type": "code",
      "source": [
        "numbers = list(range(1,11))"
      ],
      "metadata": {
        "id": "DwBbjFgTrWps"
      },
      "execution_count": 24,
      "outputs": []
    },
    {
      "cell_type": "code",
      "source": [
        "for x in numbers:\n",
        "  print(x)"
      ],
      "metadata": {
        "id": "hlU__zZFrXAV",
        "colab": {
          "base_uri": "https://localhost:8080/"
        },
        "outputId": "4e509bfe-2117-450c-b5e4-892afedc07e7"
      },
      "execution_count": 18,
      "outputs": [
        {
          "output_type": "stream",
          "name": "stdout",
          "text": [
            "1\n",
            "2\n",
            "3\n",
            "4\n",
            "5\n",
            "6\n",
            "7\n",
            "8\n",
            "9\n",
            "10\n"
          ]
        }
      ]
    },
    {
      "cell_type": "code",
      "source": [
        "for x in numbers:\n",
        "  if x == 1:\n",
        "    ordinal = 'st'\n",
        "  elif x == 2:\n",
        "    ordinal = 'nd'\n",
        "  elif x == 3:\n",
        "    ordinal = 'rd'\n",
        "  else:\n",
        "    ordinal = 'th'\n",
        "  print(str(x) + ordinal)"
      ],
      "metadata": {
        "colab": {
          "base_uri": "https://localhost:8080/"
        },
        "id": "rDVcNXw3jl1Z",
        "outputId": "2086a31e-db5d-4c82-9b63-9e7a207f463a"
      },
      "execution_count": 27,
      "outputs": [
        {
          "output_type": "stream",
          "name": "stdout",
          "text": [
            "1st\n",
            "2nd\n",
            "3rd\n",
            "4th\n",
            "5th\n",
            "6th\n",
            "7th\n",
            "8th\n",
            "9th\n",
            "10th\n"
          ]
        }
      ]
    }
  ]
}