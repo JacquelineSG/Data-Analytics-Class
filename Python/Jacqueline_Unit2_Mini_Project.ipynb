{
  "nbformat": 4,
  "nbformat_minor": 0,
  "metadata": {
    "colab": {
      "name": "Jacqueline - Unit2_Mini_Project.ipynb",
      "provenance": [],
      "collapsed_sections": [],
      "include_colab_link": true
    },
    "kernelspec": {
      "name": "python3",
      "display_name": "Python 3"
    }
  },
  "cells": [
    {
      "cell_type": "markdown",
      "metadata": {
        "id": "view-in-github",
        "colab_type": "text"
      },
      "source": [
        "<a href=\"https://colab.research.google.com/github/JacquelineSG/Data-Analytics-Class/blob/main/Python/Jacqueline_Unit2_Mini_Project.ipynb\" target=\"_parent\"><img src=\"https://colab.research.google.com/assets/colab-badge.svg\" alt=\"Open In Colab\"/></a>"
      ]
    },
    {
      "cell_type": "markdown",
      "metadata": {
        "id": "Vgs8Kp4TidFQ"
      },
      "source": [
        "# Intrdouction to Python - Mini Project"
      ]
    },
    {
      "cell_type": "markdown",
      "metadata": {
        "id": "_Hq7Ny79iwgD"
      },
      "source": [
        "#Python Project – Odd or Even\n",
        "\n",
        "Ask the user for a number. Depending on whether the number is even or odd, print out an appropriate message to the user. Hint: how does an even / odd number react differently when divided by 2?\n"
      ]
    },
    {
      "cell_type": "code",
      "metadata": {
        "id": "lotvpVpvlKsR",
        "colab": {
          "base_uri": "https://localhost:8080/"
        },
        "outputId": "3ef48964-93a1-4c55-cd4b-39044eeb88eb"
      },
      "source": [
        "number = int(input('Enter a number: ')) #covert input to an integer"
      ],
      "execution_count": null,
      "outputs": [
        {
          "name": "stdout",
          "output_type": "stream",
          "text": [
            "Enter a number: 44\n"
          ]
        }
      ]
    },
    {
      "cell_type": "code",
      "metadata": {
        "id": "oNXY-CfrlLbE",
        "colab": {
          "base_uri": "https://localhost:8080/"
        },
        "outputId": "233a963e-1ff5-4c81-97ef-2688507a0b43"
      },
      "source": [
        "if number % 2 == 0:\n",
        "  print(str(number) + ' is an even number')\n",
        "else:\n",
        "  print(str(number) + ' is an odd number')"
      ],
      "execution_count": null,
      "outputs": [
        {
          "output_type": "stream",
          "name": "stdout",
          "text": [
            "44 is an even number\n"
          ]
        }
      ]
    },
    {
      "cell_type": "code",
      "metadata": {
        "id": "6_iDEhq5nvd8"
      },
      "source": [
        ""
      ],
      "execution_count": null,
      "outputs": []
    },
    {
      "cell_type": "markdown",
      "metadata": {
        "id": "io_27RSlizno"
      },
      "source": [
        "# Bonus:\n",
        "\n",
        "1.\tIf the number is a multiple of 4, print out a different message.\n",
        "\n",
        "2.\tAsk the user for two numbers: one number to check (call it num) and one number to divide by (check). If check divides evenly into num, tell that to the user. If not, print a different appropriate message.\n"
      ]
    },
    {
      "cell_type": "code",
      "metadata": {
        "id": "Dh1o5cAylSHB",
        "colab": {
          "base_uri": "https://localhost:8080/"
        },
        "outputId": "b2021d70-ea80-4710-d334-ffdfe1301d2d"
      },
      "source": [
        "if number % 4 == 0:\n",
        "  print(str(number) + ' is a multiple of 4')"
      ],
      "execution_count": null,
      "outputs": [
        {
          "output_type": "stream",
          "name": "stdout",
          "text": [
            "44 is a multiple of 4\n"
          ]
        }
      ]
    },
    {
      "cell_type": "code",
      "metadata": {
        "id": "vs8ppR-wlSKL"
      },
      "source": [
        ""
      ],
      "execution_count": null,
      "outputs": []
    },
    {
      "cell_type": "code",
      "metadata": {
        "id": "5mkKtxzunuqc",
        "colab": {
          "base_uri": "https://localhost:8080/"
        },
        "outputId": "b6c45f57-df61-4f62-c8ad-d718378e0aa7"
      },
      "source": [
        "num = int(input('Enter a number: '))\n",
        "check = int(input('Enter another number: '))"
      ],
      "execution_count": null,
      "outputs": [
        {
          "name": "stdout",
          "output_type": "stream",
          "text": [
            "Enter a number: 15\n",
            "Enter another number: 4\n"
          ]
        }
      ]
    },
    {
      "cell_type": "code",
      "metadata": {
        "id": "rmfPnI5onutd",
        "colab": {
          "base_uri": "https://localhost:8080/"
        },
        "outputId": "2d3cc3a6-4c28-4a98-8738-fc8377944f23"
      },
      "source": [
        "if num % check == 0:\n",
        "  print(str(check) + ' divides evenly into ' + str(num))\n",
        "else:\n",
        "  print(str(check) + \" does not divide evenly into \" + str(num))"
      ],
      "execution_count": null,
      "outputs": [
        {
          "output_type": "stream",
          "name": "stdout",
          "text": [
            "4 does not divide evenly into 15\n"
          ]
        }
      ]
    }
  ]
}